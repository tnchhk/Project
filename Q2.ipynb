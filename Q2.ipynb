{
 "cells": [
  {
   "cell_type": "markdown",
   "metadata": {},
   "source": [
    "## Python code\n",
    "### Extraction of price/item data for the women handbag category\n",
    "### Handling of page pagination \n",
    "### Cache the entire page and ahve separate programs to extract the item price/product info onto a more structural format \n",
    "### regular cadence\n",
    "\n",
    "### product name, price, timestamp"
   ]
  },
  {
   "cell_type": "markdown",
   "metadata": {},
   "source": [
    "![alt text](image.png)"
   ]
  },
  {
   "cell_type": "code",
   "execution_count": null,
   "metadata": {},
   "outputs": [],
   "source": []
  },
  {
   "cell_type": "code",
   "execution_count": 63,
   "metadata": {},
   "outputs": [],
   "source": [
    "import requests\n",
    "from bs4 import BeautifulSoup\n",
    "import datetime\n",
    "from selenium import webdriver\n",
    "import time\n",
    "import csv\n",
    "import schedule"
   ]
  },
  {
   "cell_type": "code",
   "execution_count": null,
   "metadata": {},
   "outputs": [],
   "source": [
    "#my original submission\n",
    "headers = {\n",
    "  \"accept\": \"text/html,application/xhtml+xml,application/xml;q=0.9,image/avif,image/webp,image/apng,/;q=0.8,application/signed-exchange;v=b3;q=0.7\",\n",
    "  \"accept-encoding\": \"gzip, deflate, br, zstd\",\n",
    "  \"accept-language\": \"en\",\n",
    "  \"cache-control\": \"max-age=0\",\n",
    "  \"priority\": \"u=0, i\",\n",
    "  \"sec-ch-ua\": \"\\\"Chromium\\\";v=\\\"130\\\", \\\"Google Chrome\\\";v=\\\"130\\\", \\\"Not?A_Brand\\\";v=\\\"99\\\"\",\n",
    "  \"sec-ch-ua-mobile\": \"?0\",\n",
    "  \"sec-ch-ua-platform\": \"Windows\",\n",
    "  \"sec-fetch-dest\": \"document\",\n",
    "  \"sec-fetch-mode\": \"navigate\",\n",
    "  \"sec-fetch-site\": \"none\",\n",
    "  \"sec-fetch-user\": \"?1\",\n",
    "  \"upgrade-insecure-requests\": \"1\",\n",
    "  \"user-agent\": \"Mozilla/5.0 (Windows NT 10.0; Win64; x64) AppleWebKit/537.36 (KHTML, like Gecko) Chrome/130.0.0.0 Safari/537.36\"\n",
    "}\n",
    "url = 'https://www.michaelkors.com/on/demandware.store/Sites-mk_us-Site/en_US/Search-UpdateGrid?cgid=womens-handbags&start=0&sz=500'\n",
    "response = requests.get(url,headers=headers)\n",
    "\n",
    "\n",
    "\n",
    "#send a GET request to the URL\n",
    "soup = BeautifulSoup(response.content, 'html.parser')\n",
    "\n",
    "#parse the HTML content\n",
    "products = soup.find_all('div', {'class': 'product-tile-wrapper'})\n",
    "\n",
    "#Extract product name, price, ratings, timestamp\n",
    "data = []\n",
    "for product in products:\n",
    "    name = product.find('a', class_='link back-to-product-anchor-js').text.strip()\n",
    "    price = product.find('span' , class_='value').text.strip()\n",
    "    ratings = product.find('span', class_='sr-only').text.strip()\n",
    "    timestamp = datetime.datetime.now().strftime('%Y-%m-%d %H:%M:%S')\n",
    "    data.append([name, price, ratings, timestamp])\n",
    "\n",
    "#remove 'out of 5 Customer Rating' text from the ratings column\n",
    "for row in data:\n",
    "    row[2] = row[2].replace(' out of 5 Customer Rating', '')\n",
    "\n",
    "\n",
    "\n",
    "#write data to a CSV file\n",
    "with open('michael_kors_data_1.csv', mode='a', newline='') as file:\n",
    "    writer = csv.writer(file)\n",
    "    for row in data:\n",
    "        writer.writerow(row)\n"
   ]
  },
  {
   "cell_type": "code",
   "execution_count": 65,
   "metadata": {},
   "outputs": [
    {
     "ename": "KeyboardInterrupt",
     "evalue": "",
     "output_type": "error",
     "traceback": [
      "\u001b[1;31m---------------------------------------------------------------------------\u001b[0m",
      "\u001b[1;31mKeyboardInterrupt\u001b[0m                         Traceback (most recent call last)",
      "Cell \u001b[1;32mIn[65], line 89\u001b[0m\n\u001b[0;32m     87\u001b[0m \u001b[38;5;28;01mwhile\u001b[39;00m \u001b[38;5;28;01mTrue\u001b[39;00m:\n\u001b[0;32m     88\u001b[0m     schedule\u001b[38;5;241m.\u001b[39mrun_pending()\n\u001b[1;32m---> 89\u001b[0m     \u001b[43mtime\u001b[49m\u001b[38;5;241;43m.\u001b[39;49m\u001b[43msleep\u001b[49m\u001b[43m(\u001b[49m\u001b[38;5;241;43m1\u001b[39;49m\u001b[43m)\u001b[49m\n",
      "\u001b[1;31mKeyboardInterrupt\u001b[0m: "
     ]
    }
   ],
   "source": [
    "def scrape_michael_kors():\n",
    "\n",
    "    headers = {\n",
    "    \"accept\": \"text/html,application/xhtml+xml,application/xml;q=0.9,image/avif,image/webp,image/apng,/;q=0.8,application/signed-exchange;v=b3;q=0.7\",\n",
    "    \"accept-encoding\": \"gzip, deflate, br, zstd\",\n",
    "    \"accept-language\": \"en\",\n",
    "    \"cache-control\": \"max-age=0\",\n",
    "    \"priority\": \"u=0, i\",\n",
    "    \"sec-ch-ua\": \"\\\"Chromium\\\";v=\\\"130\\\", \\\"Google Chrome\\\";v=\\\"130\\\", \\\"Not?A_Brand\\\";v=\\\"99\\\"\",\n",
    "    \"sec-ch-ua-mobile\": \"?0\",\n",
    "    \"sec-ch-ua-platform\": \"Windows\",\n",
    "    \"sec-fetch-dest\": \"document\",\n",
    "    \"sec-fetch-mode\": \"navigate\",\n",
    "    \"sec-fetch-site\": \"none\",\n",
    "    \"sec-fetch-user\": \"?1\",\n",
    "    \"upgrade-insecure-requests\": \"1\",\n",
    "    \"user-agent\": \"Mozilla/5.0 (Windows NT 10.0; Win64; x64) AppleWebKit/537.36 (KHTML, like Gecko) Chrome/130.0.0.0 Safari/537.36\"\n",
    "    }\n",
    "    url = 'https://www.michaelkors.com/on/demandware.store/Sites-mk_us-Site/en_US/Search-UpdateGrid?cgid=womens-handbags&start=0&sz=500'\n",
    "    response = requests.get(url,headers=headers)\n",
    "\n",
    "\n",
    "\n",
    "    #send a GET request to the URL\n",
    "    soup = BeautifulSoup(response.content, 'html.parser')\n",
    "\n",
    "    #parse the HTML content\n",
    "    products = soup.find_all('div', {'class': 'product-tile-wrapper'})\n",
    "\n",
    "    #Extract product name, price, discounted price ratings, timestamp\n",
    "    data = []\n",
    "    for product in products:\n",
    "        name = product.find('a', class_='link back-to-product-anchor-js').text.strip()\n",
    "\n",
    "    #For some products, there are original prices (if there is a separate discount). These may not appear\n",
    "\n",
    "        price = \"\"  # Default value in case price is not found\n",
    "        list_span = product.find('span', {'class': 'list'})\n",
    "        if list_span:\n",
    "            value_span = list_span.find('span', {'class': 'value'})\n",
    "            if value_span:\n",
    "                price = value_span.text.strip()\n",
    "\n",
    "    #For most products, there is a sales price\n",
    "        sales_price = \"No sales price\"  # Default value in case price is not found\n",
    "\n",
    "        sales_span = product.find('span', {'class': 'sales'})\n",
    "        if sales_span:\n",
    "            value_span_1 = sales_span.find('span', {'class': 'value'})\n",
    "            if value_span_1:\n",
    "                sales_price = value_span_1.text.strip()    \n",
    "\n",
    "    #Not all products have ratings\n",
    "\n",
    "        ratings = \"\" \n",
    "\n",
    "        ratings_span = product.find('div', {'class': 'ratings'})\n",
    "        if ratings_span:\n",
    "            value_span_2 = ratings_span.find('span', {'class': 'sr-only'})\n",
    "            if value_span_2:\n",
    "                ratings = value_span_2.text.strip()\n",
    "\n",
    "\n",
    "        timestamp = datetime.datetime.now().strftime('%Y-%m-%d %H:%M:%S')\n",
    "        data.append([name, price, sales_price, ratings, timestamp])\n",
    "\n",
    "    #remove 'out of 5 Customer Rating' text from the ratings column\n",
    "    for row in data:\n",
    "        row[3] = row[3].replace(' out of 5 Customer Rating', '')\n",
    "\n",
    "    #add column headers\n",
    "    data.insert(0, ['Product Name', 'Original Price', 'Sales Price', 'Ratings', 'Timestamp'])\n",
    "\n",
    "    #Generate current date\n",
    "    current_date = datetime.datetime.now().strftime('%Y-%m-%d')\n",
    "    file_name = f'michael_kors_data_{current_date}.csv'\n",
    "\n",
    "    #write data to a CSV file\n",
    "    with open(file_name, mode='w', newline='') as file:\n",
    "        writer = csv.writer(file)\n",
    "        for row in data:\n",
    "            writer.writerow(row)\n",
    "\n",
    "#schedule the scraper to run at 9 am every day\n",
    "schedule.every().day.at(\"09:00\").do(scrape_michael_kors)\n",
    "\n",
    "while True:\n",
    "    schedule.run_pending()\n",
    "    time.sleep(1)\n",
    "\n"
   ]
  },
  {
   "cell_type": "code",
   "execution_count": 5,
   "metadata": {},
   "outputs": [
    {
     "data": {
      "text/plain": [
       "406"
      ]
     },
     "execution_count": 5,
     "metadata": {},
     "output_type": "execute_result"
    }
   ],
   "source": [
    "len(products)"
   ]
  },
  {
   "cell_type": "markdown",
   "metadata": {},
   "source": [
    "### selenium"
   ]
  },
  {
   "cell_type": "code",
   "execution_count": null,
   "metadata": {},
   "outputs": [],
   "source": [
    "#use chrome driver\n",
    "driver = webdriver.Chrome()\n",
    "\n",
    "#define the URL to scrape \n",
    "url= 'https://www.michaelkors.global/hk/en/women/handbags/'\n",
    "driver.get(url)\n",
    "\n",
    "#wait for the page to load\n",
    "time.sleep(5)   \n",
    "\n",
    "#Fetch the webpage\n",
    "soup = BeautifulSoup(driver.page_source, 'html.parser')\n",
    "\n",
    "#find all products \n",
    "products = soup.find_all('div', {'class': 'product-tile-wrapper'})\n",
    "\n",
    "productlists = []\n",
    "\n",
    "for item in products:\n",
    "    for link in item.find_all('a',href=True):\n",
    "        print(link['href'])\n",
    "\n",
    "# Close the browser\n",
    "driver.quit()"
   ]
  }
 ],
 "metadata": {
  "kernelspec": {
   "display_name": "env",
   "language": "python",
   "name": "python3"
  },
  "language_info": {
   "codemirror_mode": {
    "name": "ipython",
    "version": 3
   },
   "file_extension": ".py",
   "mimetype": "text/x-python",
   "name": "python",
   "nbconvert_exporter": "python",
   "pygments_lexer": "ipython3",
   "version": "3.12.7"
  }
 },
 "nbformat": 4,
 "nbformat_minor": 2
}
